{
 "cells": [
  {
   "cell_type": "code",
   "execution_count": null,
   "id": "d7b0f1ad-2f11-4eac-abcd-185cbd0fdc88",
   "metadata": {},
   "outputs": [],
   "source": [
    "from googleapiclient.discovery import build\n",
    "from google.oauth2 import service_account\n",
    "\n",
    "def configure_google_credentials(credentials_file):\n",
    "    return service_account.Credentials.from_service_account_file(\n",
    "        'zeta-dock-403001-016ee9fa4a6f.json',\n",
    "        scopes=['https://www.googleapis.com/auth/cse']\n",
    "    )\n",
    "\n",
    "\n",
    "def buscar_tallerista(query, num_results=10, country=\"\", region=\"\"):\n",
    "    cse_id = '94b5a3f9d79d0417b'  # ID del motor de búsqueda personalizado de Google\n",
    "\n",
    "    query += f\" persona en region metropolitana,chile site:linkedin.com\"\n",
    "    query += f\" que realize talleres\" \n",
    "\n",
    "    # Crear una nueva instancia de la búsqueda personalizada\n",
    "    service = build('customsearch', 'v1', credentials=configure_google_credentials('tu_archivo_credenciales.json'))\n",
    "\n",
    "    resultados = service.cse().list(\n",
    "        q=query,\n",
    "        cx=cse_id,\n",
    "        num=num_results\n",
    "    ).execute()\n",
    "\n",
    "    return resultados.get('items', [])\n",
    "\n",
    "def buscar_insumos(query, num_results=10, country=\"\", region=\"\"):\n",
    "    cse_id = '94b5a3f9d79d0417b'  # ID del motor de búsqueda personalizado de Google\n",
    "\n",
    "    query += f\" ofertas y compras de {query} en chile, region metropolitana\"\n",
    "\n",
    "    # Crear una nueva instancia de la búsqueda personalizada\n",
    "    service = build('customsearch', 'v1', credentials=configure_google_credentials('tu_archivo_credenciales.json'))\n",
    "\n",
    "    resultados = service.cse().list(\n",
    "        q=query,\n",
    "        cx=cse_id,\n",
    "        num=num_results\n",
    "    ).execute()\n",
    "\n",
    "    return resultados.get('items', [])\n"
   ]
  }
 ],
 "metadata": {
  "kernelspec": {
   "display_name": "Python 3 (ipykernel)",
   "language": "python",
   "name": "python3"
  },
  "language_info": {
   "codemirror_mode": {
    "name": "ipython",
    "version": 3
   },
   "file_extension": ".py",
   "mimetype": "text/x-python",
   "name": "python",
   "nbconvert_exporter": "python",
   "pygments_lexer": "ipython3",
   "version": "3.11.5"
  }
 },
 "nbformat": 4,
 "nbformat_minor": 5
}
