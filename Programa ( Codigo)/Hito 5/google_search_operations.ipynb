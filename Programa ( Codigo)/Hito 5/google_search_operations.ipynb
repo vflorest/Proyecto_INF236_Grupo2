{
 "cells": [
  {
   "cell_type": "code",
   "execution_count": null,
   "id": "d7b0f1ad-2f11-4eac-abcd-185cbd0fdc88",
   "metadata": {},
   "outputs": [],
   "source": [
    "from googleapiclient.discovery import build\n",
    "from google.oauth2 import service_account\n",
    "\n",
    "def configure_google_credentials(credentials_file):\n",
    "    credentials = service_account.Credentials.from_service_account_file(\n",
    "        credentials_file,\n",
    "        scopes=['https://www.googleapis.com/auth/cse']\n",
    "    )\n",
    "    return build('customsearch', 'v1', credentials=credentials)\n",
    "\n",
    "def buscar_tallerista(service, query, num_results=10, country=\"\", region=\"\"):\n",
    "    cse_id = '94b5a3f9d79d0417b'  # Reemplaza con tu ID de motor de búsqueda personalizado\n",
    "\n",
    "    query += f\" persona en region metropolitana,chile site:linkedin.com\"\n",
    "    query += f\" que realize talleres\" \n",
    "\n",
    "    resultados = service.cse().list(\n",
    "        q=query,\n",
    "        cx=cse_id,\n",
    "        num=num_results\n",
    "    ).execute()\n",
    "\n",
    "    return resultados.get('items', [])\n",
    "\n",
    "def buscar_insumos(service, query, num_results=10, country=\"\", region=\"\"):\n",
    "    cse_id = '94b5a3f9d79d0417b'  # Reemplaza con tu ID de motor de búsqueda personalizado\n",
    "\n",
    "    query += f\" ofertas y compras de {query} en chile, region metropolitana\"\n",
    "\n",
    "    resultados = service.cse().list(\n",
    "        q=query,\n",
    "        cx=cse_id,\n",
    "        num=num_results\n",
    "    ).execute()\n",
    "\n",
    "    return resultados.get('items', [])\n"
   ]
  }
 ],
 "metadata": {
  "kernelspec": {
   "display_name": "Python 3 (ipykernel)",
   "language": "python",
   "name": "python3"
  },
  "language_info": {
   "codemirror_mode": {
    "name": "ipython",
    "version": 3
   },
   "file_extension": ".py",
   "mimetype": "text/x-python",
   "name": "python",
   "nbconvert_exporter": "python",
   "pygments_lexer": "ipython3",
   "version": "3.11.5"
  }
 },
 "nbformat": 4,
 "nbformat_minor": 5
}
