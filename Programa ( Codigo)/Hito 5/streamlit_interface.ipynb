{
 "cells": [
  {
   "cell_type": "code",
   "execution_count": null,
   "id": "6810731d-c8ab-4653-ad0f-fb679253f861",
   "metadata": {},
   "outputs": [],
   "source": [
    "import streamlit as st\n",
    "import requests\n",
    "\n",
    "# URL base de la API Flask\n",
    "BASE_URL = 'http://localhost:5000'  # Cambia esto por la URL donde se ejecute la API Flask\n",
    "\n",
    "# Configurar título y descripción de la aplicación Streamlit\n",
    "st.title('Búsqueda de Talleristas e Insumos')\n",
    "st.write('Esta aplicación interactúa con la API para realizar búsquedas y mostrar los resultados.')\n",
    "\n",
    "# Sección para obtener la API Key de OpenAI\n",
    "st.header('Configurar API Key de OpenAI')\n",
    "api_key = st.text_input('Introduce tu API Key de OpenAI:')\n",
    "if st.button('Configurar API Key'):\n",
    "    response = requests.post(f'{BASE_URL}/configure_openai_key', json={'api_key': api_key})\n",
    "    if response.status_code == 200:\n",
    "        st.success('API Key de OpenAI configurada correctamente.')\n",
    "    else:\n",
    "        st.error('Error al configurar la API Key de OpenAI.')\n",
    "\n",
    "# Sección para obtener el tipo de tallerista\n",
    "st.header('Obtener Tipo de Tallerista')\n",
    "descripcion_tallerista = st.text_input('Ingresa la descripción para obtener el tipo de tallerista:')\n",
    "if st.button('Obtener Tipo de Tallerista'):\n",
    "    response = requests.post(f'{BASE_URL}/tipo_tallerista', json={'descripcion': descripcion_tallerista})\n",
    "    if response.status_code == 200:\n",
    "        tipo_tallerista = response.json()['tipo_tallerista']\n",
    "        st.success(f'Tipo de tallerista recomendado: {tipo_tallerista}')\n",
    "    else:\n",
    "        st.error('Error al obtener el tipo de tallerista.')\n",
    "\n",
    "# Sección para obtener insumos recomendados\n",
    "st.header('Obtener Insumos Recomendados')\n",
    "descripcion_insumos = st.text_input('Ingresa la descripción para obtener insumos recomendados:')\n",
    "if st.button('Obtener Insumos Recomendados'):\n",
    "    response = requests.post(f'{BASE_URL}/insumos', json={'descripcion': descripcion_insumos})\n",
    "    if response.status_code == 200:\n",
    "        insumos_recomendados = response.json()['insumos']\n",
    "        st.success(f'Insumos recomendados: {insumos_recomendados}')\n",
    "    else:\n",
    "        st.error('Error al obtener insumos recomendados.')\n"
   ]
  }
 ],
 "metadata": {
  "kernelspec": {
   "display_name": "Python 3 (ipykernel)",
   "language": "python",
   "name": "python3"
  },
  "language_info": {
   "codemirror_mode": {
    "name": "ipython",
    "version": 3
   },
   "file_extension": ".py",
   "mimetype": "text/x-python",
   "name": "python",
   "nbconvert_exporter": "python",
   "pygments_lexer": "ipython3",
   "version": "3.11.5"
  }
 },
 "nbformat": 4,
 "nbformat_minor": 5
}
