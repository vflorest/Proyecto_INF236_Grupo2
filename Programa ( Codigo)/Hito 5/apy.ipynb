{
 "cells": [
  {
   "cell_type": "code",
   "execution_count": null,
   "id": "862ddf08-2fb0-4426-b7a1-9973e740f374",
   "metadata": {},
   "outputs": [],
   "source": [
    "from flask import Flask, jsonify, request\n",
    "from openai_operations import configure_api_key, obtener_tipo_tallerista, obtener_insumos\n",
    "from google_search_operations import configure_google_credentials, buscar_tallerista, buscar_insumos\n",
    "\n",
    "app = Flask(__name__)\n",
    "\n",
    "# Configurar API key de OpenAI\n",
    "@app.route('/configure_openai_key', methods=['POST'])\n",
    "def configure_openai_key():\n",
    "    api_key = request.json.get('api_key')\n",
    "    configure_api_key(api_key)\n",
    "    return jsonify({'message': 'OpenAI API Key configured successfully'})\n",
    "\n",
    "# Endpoint para obtener tipo de tallerista\n",
    "@app.route('/tipo_tallerista', methods=['POST'])\n",
    "def get_tipo_tallerista():\n",
    "    descripcion = request.json.get('descripcion')\n",
    "    tipo_tallerista = obtener_tipo_tallerista(descripcion)\n",
    "    return jsonify({'tipo_tallerista': tipo_tallerista})\n",
    "\n",
    "# Endpoint para obtener insumos\n",
    "@app.route('/insumos', methods=['POST'])\n",
    "def get_insumos():\n",
    "    descripcion = request.json.get('descripcion')\n",
    "    insumos = obtener_insumos(descripcion)\n",
    "    return jsonify({'insumos': insumos})\n",
    "\n",
    "# Endpoint para buscar tallerista en Google\n",
    "@app.route('/buscar_tallerista', methods=['POST'])\n",
    "def search_tallerista():\n",
    "    query = request.json.get('query')\n",
    "    resultados = buscar_tallerista(query)\n",
    "    return jsonify({'resultados': resultados})\n",
    "\n",
    "# Endpoint para buscar insumos en Google\n",
    "@app.route('/buscar_insumos', methods=['POST'])\n",
    "def search_insumos():\n",
    "    query = request.json.get('query')\n",
    "    resultados = buscar_insumos(query)\n",
    "    return jsonify({'resultados': resultados})\n",
    "\n",
    "if __name__ == '__main__':\n",
    "    app.run(debug=True)\n"
   ]
  }
 ],
 "metadata": {
  "kernelspec": {
   "display_name": "Python 3 (ipykernel)",
   "language": "python",
   "name": "python3"
  },
  "language_info": {
   "codemirror_mode": {
    "name": "ipython",
    "version": 3
   },
   "file_extension": ".py",
   "mimetype": "text/x-python",
   "name": "python",
   "nbconvert_exporter": "python",
   "pygments_lexer": "ipython3",
   "version": "3.11.5"
  }
 },
 "nbformat": 4,
 "nbformat_minor": 5
}
