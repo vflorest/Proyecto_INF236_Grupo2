{
 "cells": [
  {
   "cell_type": "code",
   "execution_count": null,
   "id": "90696c4a-9763-4bf4-b288-0d912df3b1ed",
   "metadata": {},
   "outputs": [],
   "source": [
    "import openai\n",
    "\n",
    "def configure_api_key(api_key):\n",
    "    openai.api_key = api_key\n",
    "\n",
    "def obtener_tipo_tallerista(descripcion):\n",
    "    respuesta = openai.Completion.create(\n",
    "        engine=\"text-davinci-002\",\n",
    "        prompt=f\"Descripción: {descripcion}\\nTipo profesión recomendado para el taller ,tiene que estar en singular, solo nombrar la profesión sin nada más ni espacios:\",\n",
    "        max_tokens=50,\n",
    "    )\n",
    "\n",
    "    tipo_tallerista = respuesta.choices[0].text.strip().split('\\n')[0]\n",
    "    return tipo_tallerista\n",
    "\n",
    "def obtener_insumos(descripcion):\n",
    "    respuesta = openai.Completion.create(\n",
    "        engine=\"text-davinci-002\",\n",
    "        prompt=f\"Descripción: {descripcion}\\n Hasta 10 Insumos recomendados para el taller con su nombre completo, solo nombrarlos sin nada más y separados por comas, sin ninguna otra tipo de puntuación:\",\n",
    "        max_tokens=100,\n",
    "    )\n",
    "\n",
    "    insumos = respuesta.choices[0].text.strip()\n",
    "    return insumos\n"
   ]
  }
 ],
 "metadata": {
  "kernelspec": {
   "display_name": "Python 3 (ipykernel)",
   "language": "python",
   "name": "python3"
  },
  "language_info": {
   "codemirror_mode": {
    "name": "ipython",
    "version": 3
   },
   "file_extension": ".py",
   "mimetype": "text/x-python",
   "name": "python",
   "nbconvert_exporter": "python",
   "pygments_lexer": "ipython3",
   "version": "3.11.5"
  }
 },
 "nbformat": 4,
 "nbformat_minor": 5
}
